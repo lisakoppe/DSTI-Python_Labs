{
 "cells": [
  {
   "cell_type": "markdown",
   "metadata": {},
   "source": [
    "______"
   ]
  },
  {
   "cell_type": "markdown",
   "metadata": {},
   "source": [
    "## PART 1 : simple operations ~ 25 min"
   ]
  },
  {
   "cell_type": "markdown",
   "metadata": {},
   "source": [
    "### print whatever you want\n",
    "### <i>2 min </i>"
   ]
  },
  {
   "cell_type": "code",
   "execution_count": 3,
   "metadata": {},
   "outputs": [
    {
     "name": "stdout",
     "output_type": "stream",
     "text": [
      "Hello World!\n",
      "[2, 5, 1, 9]\n",
      "5\n",
      "2\n",
      "{'3': 5}\n",
      "{'3': 5}\n"
     ]
    }
   ],
   "source": [
    "# Create string\n",
    "my_str = \"Hello World!\"\n",
    "print(my_str)\n",
    "\n",
    "# Create list\n",
    "my_list = [2,5,1,9]\n",
    "print(my_list)\n",
    "\n",
    "# Create integers\n",
    "var_a = 5\n",
    "var_b = 2\n",
    "print(var_a)\n",
    "print(var_b)\n",
    "\n",
    "# Create dictionnaries\n",
    "my_dict_1 = {\"3\":5}\n",
    "print(my_dict_1)\n",
    "\n",
    "my_dict_2 = {}\n",
    "my_dict_2[\"3\"]=5\n",
    "print(my_dict_2)\n",
    "\n",
    "# Check if dictionnaries are the same\n",
    "assert my_dict_1 == my_dict_2"
   ]
  },
  {
   "cell_type": "markdown",
   "metadata": {},
   "source": [
    "### print the sum  , difference and product of 2 variables\n",
    "### <i>5 min </i>"
   ]
  },
  {
   "cell_type": "code",
   "execution_count": 4,
   "metadata": {},
   "outputs": [
    {
     "name": "stdout",
     "output_type": "stream",
     "text": [
      "Sum of two variables: 7\n",
      "Difference of two variables: 3\n",
      "Product of two variables: 10\n"
     ]
    }
   ],
   "source": [
    "# Sum of two variables\n",
    "var_sum = var_a + var_b\n",
    "print(\"Sum of two variables:\", var_sum)\n",
    "\n",
    "# Difference of two variables\n",
    "var_dif = var_a - var_b\n",
    "print(\"Difference of two variables:\", var_dif)\n",
    "\n",
    "# Product of two variables\n",
    "var_prod = var_a * var_b\n",
    "print(\"Product of two variables:\", var_prod)"
   ]
  },
  {
   "cell_type": "markdown",
   "metadata": {},
   "source": [
    "### print whatever you want in CAPS\n",
    "### <i>2 min </i>"
   ]
  },
  {
   "cell_type": "code",
   "execution_count": 5,
   "metadata": {},
   "outputs": [
    {
     "name": "stdout",
     "output_type": "stream",
     "text": [
      "HELLO WORLD!\n",
      "hello world!\n"
     ]
    }
   ],
   "source": [
    "# Uppercase a string and print it\n",
    "my_upper_str = my_str.upper()\n",
    "print(my_upper_str)\n",
    "\n",
    "# Lowercase a string and print it\n",
    "my_lower_str = my_str.lower()\n",
    "print(my_lower_str)"
   ]
  },
  {
   "cell_type": "markdown",
   "metadata": {},
   "source": [
    "### print the type of whatever you write\n",
    "### <i>2 min </i>"
   ]
  },
  {
   "cell_type": "code",
   "execution_count": 6,
   "metadata": {},
   "outputs": [
    {
     "name": "stdout",
     "output_type": "stream",
     "text": [
      "<class 'str'>\n",
      "<class 'int'>\n",
      "<class 'int'>\n",
      "<class 'list'>\n",
      "<class 'dict'>\n"
     ]
    }
   ],
   "source": [
    "# Print variables types\n",
    "print(type(my_str))\n",
    "print(type(var_a))\n",
    "print(type(var_dif))\n",
    "print(type(my_list))\n",
    "print(type(my_dict_2))"
   ]
  },
  {
   "cell_type": "markdown",
   "metadata": {},
   "source": [
    "### print the length of some text\n",
    "### <i>2 min </i>"
   ]
  },
  {
   "cell_type": "code",
   "execution_count": 7,
   "metadata": {},
   "outputs": [
    {
     "name": "stdout",
     "output_type": "stream",
     "text": [
      "12\n",
      "What's your favorite color?blue\n",
      "blue is your favorite color and it has 4 characters.\n"
     ]
    }
   ],
   "source": [
    "# Print length of some text\n",
    "my_str_length = len(my_str)\n",
    "print(my_str_length)\n",
    "\n",
    "# Print length of some text with input function\n",
    "my_input_text = input(\"What's your favorite color?\")\n",
    "my_input_text_length = len(my_input_text)\n",
    "print(my_input_text, \"is your favorite color and it has\", my_input_text_length, \"characters.\")"
   ]
  },
  {
   "cell_type": "markdown",
   "metadata": {},
   "source": [
    "### print the number of lines in some text\n",
    "### <i>2 min </i>"
   ]
  },
  {
   "cell_type": "code",
   "execution_count": 8,
   "metadata": {},
   "outputs": [
    {
     "name": "stdout",
     "output_type": "stream",
     "text": [
      "13444\n"
     ]
    },
    {
     "name": "stderr",
     "output_type": "stream",
     "text": [
      "\n"
     ]
    }
   ],
   "source": [
    "# Download the file at http://classics.mit.edu/Homer/iliad.mb.txt\n",
    "!curl http://classics.mit.edu/Homer/iliad.mb.txt -o ./iliad.txt\n",
    "    \n",
    "# Store file in variable\n",
    "my_filepath = \"iliad.txt\"\n",
    "\n",
    "# Create a function to count lines in the text file\n",
    "def nb_lines(my_filepath):\n",
    "    with open(my_filepath,\"r\") as my_file: #\"with\" creates a scope and ensures that the file is closed\n",
    "        my_file_length = len(my_file.readlines())\n",
    "    return(my_file_length)\n",
    "print(nb_lines(my_filepath))"
   ]
  },
  {
   "cell_type": "markdown",
   "metadata": {},
   "source": [
    "### print the number of words in each line of some text\n",
    "### <i>2 min </i>"
   ]
  },
  {
   "cell_type": "code",
   "execution_count": 9,
   "metadata": {},
   "outputs": [
    {
     "name": "stdout",
     "output_type": "stream",
     "text": [
      "151\n",
      "151\n"
     ]
    },
    {
     "name": "stderr",
     "output_type": "stream",
     "text": [
      "\n"
     ]
    },
    {
     "data": {
      "text/plain": [
       "True"
      ]
     },
     "execution_count": 9,
     "metadata": {},
     "output_type": "execute_result"
    }
   ],
   "source": [
    "# Download the file at https://archive.ics.uci.edu/ml/machine-learning-databases/iris/iris.data\n",
    "!curl https://archive.ics.uci.edu/ml/machine-learning-databases/iris/iris.data -o iris.data\n",
    "\n",
    "# Store file in variable\n",
    "iris_file = \"iris.data\"\n",
    "    \n",
    "# Check the number of lines\n",
    "print(nb_lines(iris_file))\n",
    "\n",
    "# Create a function which will only read the number of lines of files with extension .data\n",
    "def nb_lines_data(filename):\n",
    "    res_length = 0\n",
    "    if filename.endswith(\".data\"):\n",
    "        with open(filename,\"r\") as my_file:\n",
    "            res_length = len(my_file.readlines())\n",
    "    else:\n",
    "        print(\"Wrong file extension. Please choose another file.\")\n",
    "    return(res_length)\n",
    "\n",
    "print(nb_lines_data(\"iris.data\"))\n",
    "\n",
    "# Create a function to count the number of words in each line of the file\n",
    "def nb_words(my_filepath):\n",
    "    res_line = []\n",
    "    number_of_words = []\n",
    "    with open(my_filepath,\"r\") as my_file:\n",
    "        res_line = my_file.readlines()\n",
    "    for my_line in res_line:\n",
    "        number_of_words.append(len(my_line.split(\" \")))\n",
    "    return(number_of_words)\n",
    "\n",
    "my_lines = nb_lines(my_filepath)\n",
    "my_words = nb_words(my_filepath)\n",
    "my_lines == len(my_words)"
   ]
  },
  {
   "cell_type": "markdown",
   "metadata": {},
   "source": [
    "### print the concatenation of 2 strings\n",
    "### <i>2 min </i>"
   ]
  },
  {
   "cell_type": "code",
   "execution_count": 10,
   "metadata": {},
   "outputs": [
    {
     "name": "stdout",
     "output_type": "stream",
     "text": [
      "I love Python\n"
     ]
    }
   ],
   "source": [
    "# Concatenation of two strings\n",
    "my_str1 = \"I love \"\n",
    "my_str2 = \"Python\"\n",
    "str_concat = my_str1 + my_str2\n",
    "print(str_concat)"
   ]
  },
  {
   "cell_type": "markdown",
   "metadata": {},
   "source": [
    "### loop through the list : my_list (using range)\n",
    "### <i>2 min </i>"
   ]
  },
  {
   "cell_type": "code",
   "execution_count": 12,
   "metadata": {},
   "outputs": [],
   "source": [
    "my_list = [\"a\",\"b\",\"c\",\"d\",\"e\",\"f\"]"
   ]
  },
  {
   "cell_type": "code",
   "execution_count": 13,
   "metadata": {},
   "outputs": [
    {
     "name": "stdout",
     "output_type": "stream",
     "text": [
      "a\n",
      "b\n",
      "c\n",
      "d\n",
      "e\n",
      "f\n"
     ]
    }
   ],
   "source": [
    "for index in range(0, len(my_list), 1):\n",
    "    print(my_list[index])"
   ]
  },
  {
   "cell_type": "markdown",
   "metadata": {},
   "source": [
    "### loop through the list : my_list (without using range)\n",
    "### <i>2 min </i>"
   ]
  },
  {
   "cell_type": "code",
   "execution_count": 14,
   "metadata": {},
   "outputs": [
    {
     "name": "stdout",
     "output_type": "stream",
     "text": [
      "a\n",
      "b\n",
      "c\n",
      "d\n",
      "e\n",
      "f\n"
     ]
    }
   ],
   "source": [
    "for item in my_list:\n",
    "    print(item)"
   ]
  },
  {
   "cell_type": "markdown",
   "metadata": {},
   "source": [
    "### loop through the list : my_list (using an iterator = enumerate)\n",
    "### <i>2 min </i>"
   ]
  },
  {
   "cell_type": "code",
   "execution_count": 15,
   "metadata": {},
   "outputs": [
    {
     "name": "stdout",
     "output_type": "stream",
     "text": [
      "0 a\n",
      "1 b\n",
      "2 c\n",
      "3 d\n",
      "4 e\n",
      "5 f\n"
     ]
    }
   ],
   "source": [
    "for index, value in enumerate(my_list): \n",
    "    print(index, value)"
   ]
  },
  {
   "cell_type": "markdown",
   "metadata": {},
   "source": [
    "### loop through the list : my_list (using while)\n",
    "### <i>5 min </i>"
   ]
  },
  {
   "cell_type": "code",
   "execution_count": 16,
   "metadata": {},
   "outputs": [
    {
     "name": "stdout",
     "output_type": "stream",
     "text": [
      "0 a\n",
      "1 b\n",
      "2 c\n",
      "3 d\n",
      "4 e\n",
      "5 f\n"
     ]
    }
   ],
   "source": [
    "index = 0\n",
    "while index < len(my_list):\n",
    "    print(index, my_list[index])\n",
    "    index += 1"
   ]
  },
  {
   "cell_type": "code",
   "execution_count": 17,
   "metadata": {},
   "outputs": [
    {
     "name": "stdout",
     "output_type": "stream",
     "text": [
      "0 a\n",
      "1 b\n",
      "2 c\n",
      "3 d\n",
      "4 e\n",
      "5 f\n"
     ]
    }
   ],
   "source": [
    "def index_list(list1):\n",
    "    index = 0\n",
    "    while index < len(list1):\n",
    "        print(index, list1[index])\n",
    "        index += 1\n",
    "\n",
    "index_list(my_list)"
   ]
  },
  {
   "cell_type": "markdown",
   "metadata": {},
   "source": [
    "______"
   ]
  },
  {
   "cell_type": "markdown",
   "metadata": {},
   "source": [
    "## PART 2 : functions ~1h30"
   ]
  },
  {
   "cell_type": "markdown",
   "metadata": {},
   "source": [
    "### write a function which RETURNS whatever you want : \n",
    "### <i>5 min</i>"
   ]
  },
  {
   "cell_type": "code",
   "execution_count": 18,
   "metadata": {},
   "outputs": [
    {
     "name": "stdout",
     "output_type": "stream",
     "text": [
      "How are you doing? good\n",
      "good\n"
     ]
    }
   ],
   "source": [
    "def return_string(my_str):\n",
    "    return my_str\n",
    "\n",
    "my_input_str = input(\"How are you doing? \")\n",
    "print(return_string(my_input_str))"
   ]
  },
  {
   "cell_type": "markdown",
   "metadata": {},
   "source": [
    "### write a function which returns the sum , difference OR product of 2 variables based on arguments \n",
    "### <i>5 min </i>"
   ]
  },
  {
   "cell_type": "code",
   "execution_count": 19,
   "metadata": {},
   "outputs": [
    {
     "name": "stdout",
     "output_type": "stream",
     "text": [
      "10\n"
     ]
    }
   ],
   "source": [
    "def my_comp(comp_name, var1, var2):\n",
    "    res_comp = 0\n",
    "    if comp_name.lower() == \"sum\":\n",
    "        res_comp = var1 + var2\n",
    "    elif comp_name.lower() == \"prod\":\n",
    "        res_comp = var1 * var2\n",
    "    elif comp_name.lower() == \"diff\":\n",
    "        res_comp = var1 - var2\n",
    "    \n",
    "    return res_comp\n",
    "\n",
    "comp1 = my_comp(\"prod\", 5, 2)\n",
    "print(comp1)"
   ]
  },
  {
   "cell_type": "markdown",
   "metadata": {},
   "source": [
    "### write a function which  returns whatever you want in CAPS or in lowercase based on arguments \n",
    "### <i>5 min </i>"
   ]
  },
  {
   "cell_type": "code",
   "execution_count": null,
   "metadata": {},
   "outputs": [],
   "source": []
  },
  {
   "cell_type": "markdown",
   "metadata": {},
   "source": [
    "### write a function which returns the type of whatever you write, and print \"OK\" when it is lowercase \n",
    "### <i>5 min</i>"
   ]
  },
  {
   "cell_type": "code",
   "execution_count": 21,
   "metadata": {},
   "outputs": [
    {
     "name": "stdout",
     "output_type": "stream",
     "text": [
      "Type something: Lalou\n",
      "lower case: not OK\n",
      "<class 'str'>\n"
     ]
    }
   ],
   "source": [
    "def return_type(my_var):\n",
    "    r_type = type(my_var) # returns the type of the input\n",
    "    # evaluate if the input is lowercasep\n",
    "    if my_var.islower():\n",
    "        print(\"lower case: OK\")\n",
    "    else:\n",
    "        print(\"lower case: not OK\")\n",
    "    return r_type\n",
    "\n",
    "in_var = input(\"Type something: \")\n",
    "print(return_type(in_var))"
   ]
  },
  {
   "cell_type": "markdown",
   "metadata": {},
   "source": [
    "### write a function which returns the number of letters of some text \n",
    "### <i>5 min</i>"
   ]
  },
  {
   "cell_type": "code",
   "execution_count": 29,
   "metadata": {},
   "outputs": [
    {
     "name": "stdout",
     "output_type": "stream",
     "text": [
      "7\n"
     ]
    }
   ],
   "source": [
    "def nb_letters(my_str):\n",
    "    result = 0\n",
    "    for letter in my_str:\n",
    "        if letter.isalpha() is True:\n",
    "            result += 1\n",
    "        \n",
    "    return result\n",
    "\n",
    "my_text = \"We are in 2019!\"\n",
    "print(nb_letters(my_text))"
   ]
  },
  {
   "cell_type": "markdown",
   "metadata": {},
   "source": [
    "### write a function which returns the number of words of some text  \n",
    "### <i>5 min<i>"
   ]
  },
  {
   "cell_type": "code",
   "execution_count": 31,
   "metadata": {},
   "outputs": [
    {
     "name": "stdout",
     "output_type": "stream",
     "text": [
      "152621\n"
     ]
    }
   ],
   "source": [
    "def nb_words(filename):\n",
    "    nwords = 0\n",
    "    with open(filename,\"r\") as my_file:\n",
    "        some_text = my_file.read()\n",
    "    nwords = len(some_text.split()) \n",
    "    return nwords\n",
    "\n",
    "print(nb_words(\"iliad.txt\"))"
   ]
  },
  {
   "cell_type": "markdown",
   "metadata": {},
   "source": [
    "### write a function which returns the number of lines  of some text \n",
    "### <i> 5 min </i>"
   ]
  },
  {
   "cell_type": "code",
   "execution_count": 33,
   "metadata": {},
   "outputs": [
    {
     "name": "stdout",
     "output_type": "stream",
     "text": [
      "13444\n"
     ]
    }
   ],
   "source": [
    "def nb_lines(filename):\n",
    "    '''\n",
    "    this function returns the number of lines of some text\n",
    "    '''\n",
    "    nlines = 0\n",
    "    with open(filename,\"r\") as my_file:\n",
    "        some_text = my_file.readlines()\n",
    "    nlines = len(some_text) \n",
    "    return nlines\n",
    "\n",
    "print(nb_lines(\"iliad.txt\"))"
   ]
  },
  {
   "cell_type": "markdown",
   "metadata": {},
   "source": [
    "### write a function which concatenates every arguments given -whatever the number of arguments \n",
    "### <i> 5 min</i>"
   ]
  },
  {
   "cell_type": "code",
   "execution_count": 42,
   "metadata": {},
   "outputs": [
    {
     "name": "stdout",
     "output_type": "stream",
     "text": [
      "Hello Python coders \n"
     ]
    }
   ],
   "source": [
    "def concat_all_param(*args):\n",
    "    result = \"\"\n",
    "    for myarg in args:\n",
    "        result += myarg + \" \"\n",
    "    return result\n",
    "\n",
    "print(concat_all_param(\"Hello\",\"Python\",\"coders\"))"
   ]
  },
  {
   "cell_type": "markdown",
   "metadata": {},
   "source": [
    "### write a function which gives  the last letter of a  string \n",
    "### <i> 5 min</i>"
   ]
  },
  {
   "cell_type": "code",
   "execution_count": 38,
   "metadata": {},
   "outputs": [
    {
     "name": "stdout",
     "output_type": "stream",
     "text": [
      "The last letter of the sentence is: n\n"
     ]
    }
   ],
   "source": [
    "def last_letter(my_str):\n",
    "    result = \"\"\n",
    "    for letter in my_str:\n",
    "        if letter.isalpha():\n",
    "            result = letter  \n",
    "    return result\n",
    "\n",
    "print(\"The last letter of the sentence is:\", last_letter(\"We are in 2019\"))"
   ]
  },
  {
   "cell_type": "markdown",
   "metadata": {},
   "source": [
    "### write a function which gives the number of files given the extension as argument  \n",
    "### <i> 5 min</i>"
   ]
  },
  {
   "cell_type": "code",
   "execution_count": 40,
   "metadata": {},
   "outputs": [
    {
     "name": "stdout",
     "output_type": "stream",
     "text": [
      "Requirement already satisfied: glob2 in c:\\programdata\\anaconda3\\lib\\site-packages (0.7)\n"
     ]
    }
   ],
   "source": [
    "!pip install glob2"
   ]
  },
  {
   "cell_type": "code",
   "execution_count": 49,
   "metadata": {},
   "outputs": [
    {
     "name": "stdout",
     "output_type": "stream",
     "text": [
      "1\n",
      "[1, 0, 1]\n"
     ]
    }
   ],
   "source": [
    "import glob2\n",
    "import os\n",
    "\n",
    "glob2.glob(\"./*.*\")\n",
    "\n",
    "def count_files(ext):\n",
    "    return(len(glob2.glob(\"*.\" + ext)))\n",
    "\n",
    "print(count_files(\"txt\"))\n",
    "\n",
    "def get_list_ext(*args):\n",
    "    res = []\n",
    "    for ext in args:\n",
    "        res.append(count_files(ext))\n",
    "    return res\n",
    "\n",
    "print(get_list_ext(\"txt\", \"py\", \"data\"))"
   ]
  },
  {
   "cell_type": "markdown",
   "metadata": {},
   "source": [
    "### write a function which gives the number of files for any number of extension \n",
    "### <i> 5 min</i>"
   ]
  },
  {
   "cell_type": "code",
   "execution_count": null,
   "metadata": {},
   "outputs": [],
   "source": []
  },
  {
   "cell_type": "markdown",
   "metadata": {},
   "source": [
    "### write a function which copies only file to a destination folder if their extension is as specified by the arguments \n",
    "###  <i>5 min</i>"
   ]
  },
  {
   "cell_type": "code",
   "execution_count": null,
   "metadata": {},
   "outputs": [],
   "source": []
  },
  {
   "cell_type": "markdown",
   "metadata": {},
   "source": [
    "### write a function which download a pdf given the url \n",
    "### <i>10 min</i>"
   ]
  },
  {
   "cell_type": "code",
   "execution_count": null,
   "metadata": {},
   "outputs": [],
   "source": []
  },
  {
   "cell_type": "markdown",
   "metadata": {},
   "source": [
    "### write a function which reads a .csv file and print it as 1 string \n",
    "### <i>3  min</i>"
   ]
  },
  {
   "cell_type": "code",
   "execution_count": null,
   "metadata": {},
   "outputs": [],
   "source": []
  },
  {
   "cell_type": "markdown",
   "metadata": {},
   "source": [
    "### write a function which reads a .csv file and print it as 1 list\n",
    "### <i>3  min</i>"
   ]
  },
  {
   "cell_type": "code",
   "execution_count": null,
   "metadata": {},
   "outputs": [],
   "source": []
  },
  {
   "cell_type": "markdown",
   "metadata": {},
   "source": [
    "### write a function which reads a .json file and print it as 1 string \n",
    "### <i>3  min</i>"
   ]
  },
  {
   "cell_type": "code",
   "execution_count": null,
   "metadata": {},
   "outputs": [],
   "source": []
  },
  {
   "cell_type": "markdown",
   "metadata": {},
   "source": [
    "### write a function which reads a .csv file into pandas and get the top 20 lines \n",
    "### <i>2  min</i>"
   ]
  },
  {
   "cell_type": "code",
   "execution_count": null,
   "metadata": {},
   "outputs": [],
   "source": []
  },
  {
   "cell_type": "markdown",
   "metadata": {},
   "source": [
    "### write a function which transforms a file from one format to  another (specified in the arguments) \n",
    "### <i>7min</i>"
   ]
  },
  {
   "cell_type": "code",
   "execution_count": null,
   "metadata": {},
   "outputs": [],
   "source": []
  },
  {
   "cell_type": "markdown",
   "metadata": {},
   "source": [
    "### write a function which reads any file( .csv, .xls, .tsv, .json) file CORRECTLY into pandas and get the top 20 lines\n",
    "###  <i>10 min</i>"
   ]
  },
  {
   "cell_type": "code",
   "execution_count": null,
   "metadata": {},
   "outputs": [],
   "source": []
  },
  {
   "cell_type": "markdown",
   "metadata": {},
   "source": [
    "### create your generator: my gene_3 :\n",
    "## returning numbers < 500\n",
    "### which returns only the numbers divisible by 3\n",
    "### <i>10 min </i>"
   ]
  },
  {
   "cell_type": "code",
   "execution_count": null,
   "metadata": {},
   "outputs": [],
   "source": []
  },
  {
   "cell_type": "markdown",
   "metadata": {},
   "source": [
    "_________"
   ]
  },
  {
   "cell_type": "markdown",
   "metadata": {},
   "source": [
    "## PART 3 : classes"
   ]
  },
  {
   "cell_type": "code",
   "execution_count": 51,
   "metadata": {},
   "outputs": [
    {
     "data": {
      "text/plain": [
       "1000"
      ]
     },
     "execution_count": 51,
     "metadata": {},
     "output_type": "execute_result"
    }
   ],
   "source": [
    "#Introduction to classes\n",
    "\n",
    "class Dataset(object):\n",
    "    \n",
    "    def __init__(self, path, type_of_ds=\"text\"):\n",
    "        # the instance (once instantiated will save the link into its my_link attribute)\n",
    "        self.my_path = path\n",
    "        self.my_type_of_ds = type_of_ds\n",
    "        self.my_name = \"\"\n",
    "        self.my_year = 2019\n",
    "        self.class_number_ds = 0\n",
    "        self.regression = False\n",
    "        \n",
    "    def get_my_size(self):\n",
    "        # you call the function my_size from the object you've instantiated\n",
    "        with open(self.my_path, \"r\") as f:\n",
    "            #return number of lines\n",
    "            return len(f.readlines())\n",
    "    \n",
    "    def get_my_year(self):\n",
    "        return self.my_year\n",
    "    \n",
    "    def get_type(self):\n",
    "        return self.my_type_of_ds\n",
    "    \n",
    "    def get_class_number(self):\n",
    "        return self.class_number_ds\n",
    "    \n",
    "    def set_regression(self):\n",
    "        if self.regression is True:\n",
    "            self.class_number_ds = 0\n",
    "        return self.regression\n",
    "    \n",
    "    def change_class_number(self, n_new_classes):\n",
    "        self.class_number_ds = n_new_classes\n",
    "\n",
    "ds_iris = Dataset(\"iris.data\")        \n",
    "\n",
    "ds_iris.get_my_size()\n",
    "ds_iris.get_my_year()\n",
    "ds_iris.get_type()\n",
    "ds_iris.get_class_number()\n",
    "ds_iris.change_class_number(1000)\n",
    "ds_iris.get_class_number()\n",
    "    "
   ]
  },
  {
   "cell_type": "markdown",
   "metadata": {},
   "source": [
    "### class 1\n",
    "<i>10min</i>"
   ]
  },
  {
   "cell_type": "markdown",
   "metadata": {},
   "source": [
    "create a class named \"Bottle\" initialized with :\n",
    "   - attribute \"name_of_beverage\" (string)\n",
    "   - attribute \"type_of_beverage\" (string)\n",
    "   - attribute size (integer)\n",
    "   - attribute \"full\" (boolean)"
   ]
  },
  {
   "cell_type": "markdown",
   "metadata": {},
   "source": [
    "instantiate the class \"Bottle\" with existing beverage"
   ]
  },
  {
   "cell_type": "code",
   "execution_count": null,
   "metadata": {},
   "outputs": [],
   "source": []
  },
  {
   "cell_type": "markdown",
   "metadata": {},
   "source": [
    "### class 2\n",
    "<i>10min</i>"
   ]
  },
  {
   "cell_type": "markdown",
   "metadata": {},
   "source": [
    "<b>create a class named \"Medicine\" with :</b>\n",
    "    <br>(initialization)\n",
    "   - attribute \"type_of_medicine\" (string)\n",
    "   - attribute quantity (integer)\n",
    "   - attribute \"full\" (boolean)\n",
    "   - attribute \"info\"\n",
    "   \n",
    "<b>create one <u>instance</u> functions:</b>\n",
    "   - function give_me_info (returns the med info)"
   ]
  },
  {
   "cell_type": "markdown",
   "metadata": {},
   "source": [
    "instantiate the class \"Medicine\" with existing info on Doctissimo"
   ]
  },
  {
   "cell_type": "code",
   "execution_count": null,
   "metadata": {},
   "outputs": [],
   "source": []
  },
  {
   "cell_type": "markdown",
   "metadata": {},
   "source": [
    "### class 3\n",
    "<i>15min</i>"
   ]
  },
  {
   "cell_type": "markdown",
   "metadata": {},
   "source": [
    "<b>Create a class named \"Fridge\" with :</b>\n",
    "    <br>(initialization)\n",
    "   - attribute \"type_of_fridge\" (string, default = \"French\")\n",
    "   - attribute \"full\" (boolean, default = False)\n",
    "   - attribute max_capacity (integer, default = 100)\n",
    "   - attribute \"stuff_inside_the_fridge\" (list of Bottles) <br>\n",
    "   \n",
    "<b>Create a set of <u>instance</u> functions:</b>\n",
    "   - function \"put_stuff(stuff)\" (puts stuff in the fridge)\n",
    "   - function \"is_full()\" (checks if the fridge is full)\n",
    "   - function \"give_me_the_ith_element_inside_the_fridge(i)\" (which allows to find the ith bottle put in the fridge)"
   ]
  },
  {
   "cell_type": "markdown",
   "metadata": {},
   "source": [
    "- instantiate the class \"Fridge\" with the right info:\n",
    "    \"American\", max_capacity = 2000, full = False, stuff_inside_the_fridge = None\n",
    "- add 10 bottles from the following csv:\n",
    "    https://www.kaggle.com/joykim92/beerscsv"
   ]
  },
  {
   "cell_type": "markdown",
   "metadata": {},
   "source": [
    "https://thispointer.com/python-how-to-make-a-class-iterable-create-iterator-class-for-it/"
   ]
  },
  {
   "cell_type": "markdown",
   "metadata": {},
   "source": [
    "____"
   ]
  },
  {
   "cell_type": "markdown",
   "metadata": {},
   "source": [
    "## PART 4 : read data in\n",
    "<i>20 min</i>"
   ]
  },
  {
   "cell_type": "code",
   "execution_count": 2,
   "metadata": {},
   "outputs": [],
   "source": [
    "go to https://archive.ics.uci.edu/ml/machine-learning-databases/car/car"
   ]
  },
  {
   "cell_type": "markdown",
   "metadata": {},
   "source": [
    " - Read the dataframe\n",
    " - Is there any column in the dataset .data ?\n",
    " - Where is the info about the dataset ?\n",
    " - What package will be used to read data in ?\n",
    " - What type of data are you in presence with ?\n",
    " - How many features are you dealing with ?\n",
    " - What is the target variable ?\n",
    " - Can you do simple stats ?\n",
    " - Prepare test set and training set\n",
    " - Plot data (how can you plot?)"
   ]
  },
  {
   "cell_type": "code",
   "execution_count": 91,
   "metadata": {},
   "outputs": [],
   "source": [
    "df = pd.read_csv(\"https://archive.ics.uci.edu/ml/machine-learning-databases/car/car.data\", header=None)"
   ]
  },
  {
   "cell_type": "code",
   "execution_count": null,
   "metadata": {},
   "outputs": [],
   "source": []
  },
  {
   "cell_type": "code",
   "execution_count": 92,
   "metadata": {},
   "outputs": [],
   "source": [
    "df_workon = df.copy()"
   ]
  },
  {
   "cell_type": "code",
   "execution_count": null,
   "metadata": {},
   "outputs": [],
   "source": []
  },
  {
   "cell_type": "code",
   "execution_count": 98,
   "metadata": {},
   "outputs": [
    {
     "data": {
      "text/html": [
       "<div>\n",
       "<style scoped>\n",
       "    .dataframe tbody tr th:only-of-type {\n",
       "        vertical-align: middle;\n",
       "    }\n",
       "\n",
       "    .dataframe tbody tr th {\n",
       "        vertical-align: top;\n",
       "    }\n",
       "\n",
       "    .dataframe thead th {\n",
       "        text-align: right;\n",
       "    }\n",
       "</style>\n",
       "<table border=\"1\" class=\"dataframe\">\n",
       "  <thead>\n",
       "    <tr style=\"text-align: right;\">\n",
       "      <th></th>\n",
       "      <th>a</th>\n",
       "      <th>b</th>\n",
       "      <th>c</th>\n",
       "      <th>d</th>\n",
       "      <th>e</th>\n",
       "      <th>f</th>\n",
       "      <th>g</th>\n",
       "    </tr>\n",
       "  </thead>\n",
       "  <tbody>\n",
       "    <tr>\n",
       "      <td>0</td>\n",
       "      <td>3</td>\n",
       "      <td>vhigh</td>\n",
       "      <td>2</td>\n",
       "      <td>2</td>\n",
       "      <td>small</td>\n",
       "      <td>low</td>\n",
       "      <td>unacc</td>\n",
       "    </tr>\n",
       "    <tr>\n",
       "      <td>1</td>\n",
       "      <td>3</td>\n",
       "      <td>vhigh</td>\n",
       "      <td>2</td>\n",
       "      <td>2</td>\n",
       "      <td>small</td>\n",
       "      <td>med</td>\n",
       "      <td>unacc</td>\n",
       "    </tr>\n",
       "    <tr>\n",
       "      <td>2</td>\n",
       "      <td>3</td>\n",
       "      <td>vhigh</td>\n",
       "      <td>2</td>\n",
       "      <td>2</td>\n",
       "      <td>small</td>\n",
       "      <td>high</td>\n",
       "      <td>unacc</td>\n",
       "    </tr>\n",
       "  </tbody>\n",
       "</table>\n",
       "</div>"
      ],
      "text/plain": [
       "   a      b  c  d      e     f      g\n",
       "0  3  vhigh  2  2  small   low  unacc\n",
       "1  3  vhigh  2  2  small   med  unacc\n",
       "2  3  vhigh  2  2  small  high  unacc"
      ]
     },
     "execution_count": 98,
     "metadata": {},
     "output_type": "execute_result"
    }
   ],
   "source": [
    "df_workon.head(3)"
   ]
  },
  {
   "cell_type": "code",
   "execution_count": null,
   "metadata": {},
   "outputs": [],
   "source": []
  },
  {
   "cell_type": "code",
   "execution_count": 93,
   "metadata": {},
   "outputs": [],
   "source": [
    "df_workon.columns = [\"a\",\"b\",\"c\",\"d\",\"e\",\"f\",\"g\"]"
   ]
  },
  {
   "cell_type": "code",
   "execution_count": null,
   "metadata": {},
   "outputs": [],
   "source": []
  },
  {
   "cell_type": "code",
   "execution_count": 94,
   "metadata": {},
   "outputs": [
    {
     "data": {
      "text/plain": [
       "array(['vhigh', 'high', 'med', 'low'], dtype=object)"
      ]
     },
     "execution_count": 94,
     "metadata": {},
     "output_type": "execute_result"
    }
   ],
   "source": [
    "df_workon.loc[:,\"a\"].unique()"
   ]
  },
  {
   "cell_type": "code",
   "execution_count": null,
   "metadata": {},
   "outputs": [],
   "source": []
  },
  {
   "cell_type": "code",
   "execution_count": 95,
   "metadata": {},
   "outputs": [],
   "source": [
    "df_workon[\"a\"][df_workon.loc[:,\"a\"]==\"vhigh\"] = 3\n",
    "df_workon[\"a\"][df_workon.loc[:,\"a\"]==\"high\"] = 2\n",
    "df_workon[\"a\"][df_workon.loc[:,\"a\"]==\"med\"] = 1\n",
    "df_workon[\"a\"][df_workon.loc[:,\"a\"]==\"low\"] = 0"
   ]
  },
  {
   "cell_type": "code",
   "execution_count": 96,
   "metadata": {},
   "outputs": [
    {
     "data": {
      "text/plain": [
       "array(['vhigh', 'high', 'med', 'low'], dtype=object)"
      ]
     },
     "execution_count": 96,
     "metadata": {},
     "output_type": "execute_result"
    }
   ],
   "source": [
    "df_workon.loc[:,\"b\"].unique()"
   ]
  },
  {
   "cell_type": "code",
   "execution_count": 88,
   "metadata": {},
   "outputs": [],
   "source": []
  },
  {
   "cell_type": "code",
   "execution_count": 90,
   "metadata": {},
   "outputs": [
    {
     "data": {
      "text/plain": [
       "array(['2', '3', '4', '5more'], dtype=object)"
      ]
     },
     "execution_count": 90,
     "metadata": {},
     "output_type": "execute_result"
    }
   ],
   "source": [
    "df_workon[\"c\"]"
   ]
  },
  {
   "cell_type": "code",
   "execution_count": null,
   "metadata": {},
   "outputs": [],
   "source": []
  },
  {
   "cell_type": "code",
   "execution_count": null,
   "metadata": {},
   "outputs": [],
   "source": [
    "df_workon[\"d\"]"
   ]
  },
  {
   "cell_type": "code",
   "execution_count": null,
   "metadata": {},
   "outputs": [],
   "source": []
  },
  {
   "cell_type": "code",
   "execution_count": null,
   "metadata": {},
   "outputs": [],
   "source": [
    "df_workon[\"e\"]"
   ]
  },
  {
   "cell_type": "code",
   "execution_count": null,
   "metadata": {},
   "outputs": [],
   "source": []
  },
  {
   "cell_type": "code",
   "execution_count": null,
   "metadata": {},
   "outputs": [],
   "source": [
    "df_workon[\"f\"]"
   ]
  },
  {
   "cell_type": "code",
   "execution_count": null,
   "metadata": {},
   "outputs": [],
   "source": []
  },
  {
   "cell_type": "code",
   "execution_count": 107,
   "metadata": {},
   "outputs": [
    {
     "data": {
      "text/plain": [
       "array(['unacc', 'acc', 'vgood', 'good'], dtype=object)"
      ]
     },
     "execution_count": 107,
     "metadata": {},
     "output_type": "execute_result"
    }
   ],
   "source": [
    "df_workon[\"g\"].unique()"
   ]
  },
  {
   "cell_type": "code",
   "execution_count": 108,
   "metadata": {},
   "outputs": [],
   "source": [
    "df_workon[\"g\"][df_workon.loc[:,\"g\"]==\"unacc\"] = 3\n",
    "df_workon[\"g\"][df_workon.loc[:,\"g\"]==\"acc\"] = 2\n",
    "df_workon[\"g\"][df_workon.loc[:,\"g\"]==\"vgood\"] = 1\n",
    "df_workon[\"g\"][df_workon.loc[:,\"g\"]==\"good\"] = 0"
   ]
  },
  {
   "cell_type": "code",
   "execution_count": 109,
   "metadata": {},
   "outputs": [
    {
     "data": {
      "image/png": "[encoded data removed]",
      "text/plain": [
       "<Figure size 432x288 with 1 Axes>"
      ]
     },
     "metadata": {
      "needs_background": "light"
     },
     "output_type": "display_data"
    }
   ],
   "source": [
    "import matplotlib.pyplot as plt\n",
    "df_workon[\"g\"].hist()\n",
    "plt.show()"
   ]
  },
  {
   "cell_type": "code",
   "execution_count": 103,
   "metadata": {},
   "outputs": [
    {
     "data": {
      "image/png": "[encoded data removed]",
      "text/plain": [
       "<Figure size 432x288 with 1 Axes>"
      ]
     },
     "metadata": {
      "needs_background": "light"
     },
     "output_type": "display_data"
    }
   ],
   "source": [
    "import matplotlib.pyplot as plt\n",
    "df_workon[\"a\"].hist()\n",
    "plt.show()"
   ]
  },
  {
   "cell_type": "code",
   "execution_count": null,
   "metadata": {},
   "outputs": [],
   "source": []
  }
 ],
 "metadata": {
  "kernelspec": {
   "display_name": "Python 3",
   "language": "python",
   "name": "python3"
  },
  "language_info": {
   "codemirror_mode": {
    "name": "ipython",
    "version": 3
   },
   "file_extension": ".py",
   "mimetype": "text/x-python",
   "name": "python",
   "nbconvert_exporter": "python",
   "pygments_lexer": "ipython3",
   "version": "3.7.3"
  }
 },
 "nbformat": 4,
 "nbformat_minor": 2
}
